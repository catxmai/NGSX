{
 "cells": [
  {
   "cell_type": "code",
   "execution_count": 3,
   "metadata": {},
   "outputs": [
    {
     "ename": "TypeError",
     "evalue": "Cannot index by location index with a non-integer key",
     "output_type": "error",
     "traceback": [
      "\u001b[1;31m---------------------------------------------------------------------------\u001b[0m",
      "\u001b[1;31mTypeError\u001b[0m                                 Traceback (most recent call last)",
      "\u001b[1;32m<ipython-input-3-655e4c40ea15>\u001b[0m in \u001b[0;36m<module>\u001b[1;34m\u001b[0m\n\u001b[0;32m     60\u001b[0m \u001b[0mdf\u001b[0m\u001b[1;33m.\u001b[0m\u001b[0mto_excel\u001b[0m\u001b[1;33m(\u001b[0m\u001b[0msave_file_name\u001b[0m\u001b[1;33m,\u001b[0m \u001b[0mindex\u001b[0m\u001b[1;33m=\u001b[0m\u001b[1;32mFalse\u001b[0m\u001b[1;33m,\u001b[0m \u001b[0mheader\u001b[0m\u001b[1;33m=\u001b[0m\u001b[1;32mFalse\u001b[0m\u001b[1;33m)\u001b[0m\u001b[1;33m\u001b[0m\u001b[1;33m\u001b[0m\u001b[0m\n\u001b[0;32m     61\u001b[0m \u001b[0mdf\u001b[0m\u001b[1;33m\u001b[0m\u001b[1;33m\u001b[0m\u001b[0m\n\u001b[1;32m---> 62\u001b[1;33m \u001b[0mdf\u001b[0m\u001b[1;33m.\u001b[0m\u001b[0miloc\u001b[0m\u001b[1;33m[\u001b[0m\u001b[1;34m\"names\"\u001b[0m\u001b[1;33m]\u001b[0m\u001b[1;33m\u001b[0m\u001b[1;33m\u001b[0m\u001b[0m\n\u001b[0m",
      "\u001b[1;32m~\\Anaconda3\\lib\\site-packages\\pandas\\core\\indexing.py\u001b[0m in \u001b[0;36m__getitem__\u001b[1;34m(self, key)\u001b[0m\n\u001b[0;32m   1765\u001b[0m \u001b[1;33m\u001b[0m\u001b[0m\n\u001b[0;32m   1766\u001b[0m             \u001b[0mmaybe_callable\u001b[0m \u001b[1;33m=\u001b[0m \u001b[0mcom\u001b[0m\u001b[1;33m.\u001b[0m\u001b[0mapply_if_callable\u001b[0m\u001b[1;33m(\u001b[0m\u001b[0mkey\u001b[0m\u001b[1;33m,\u001b[0m \u001b[0mself\u001b[0m\u001b[1;33m.\u001b[0m\u001b[0mobj\u001b[0m\u001b[1;33m)\u001b[0m\u001b[1;33m\u001b[0m\u001b[1;33m\u001b[0m\u001b[0m\n\u001b[1;32m-> 1767\u001b[1;33m             \u001b[1;32mreturn\u001b[0m \u001b[0mself\u001b[0m\u001b[1;33m.\u001b[0m\u001b[0m_getitem_axis\u001b[0m\u001b[1;33m(\u001b[0m\u001b[0mmaybe_callable\u001b[0m\u001b[1;33m,\u001b[0m \u001b[0maxis\u001b[0m\u001b[1;33m=\u001b[0m\u001b[0maxis\u001b[0m\u001b[1;33m)\u001b[0m\u001b[1;33m\u001b[0m\u001b[1;33m\u001b[0m\u001b[0m\n\u001b[0m\u001b[0;32m   1768\u001b[0m \u001b[1;33m\u001b[0m\u001b[0m\n\u001b[0;32m   1769\u001b[0m     \u001b[1;32mdef\u001b[0m \u001b[0m_is_scalar_access\u001b[0m\u001b[1;33m(\u001b[0m\u001b[0mself\u001b[0m\u001b[1;33m,\u001b[0m \u001b[0mkey\u001b[0m\u001b[1;33m:\u001b[0m \u001b[0mTuple\u001b[0m\u001b[1;33m)\u001b[0m\u001b[1;33m:\u001b[0m\u001b[1;33m\u001b[0m\u001b[1;33m\u001b[0m\u001b[0m\n",
      "\u001b[1;32m~\\Anaconda3\\lib\\site-packages\\pandas\\core\\indexing.py\u001b[0m in \u001b[0;36m_getitem_axis\u001b[1;34m(self, key, axis)\u001b[0m\n\u001b[0;32m   2132\u001b[0m             \u001b[0mkey\u001b[0m \u001b[1;33m=\u001b[0m \u001b[0mitem_from_zerodim\u001b[0m\u001b[1;33m(\u001b[0m\u001b[0mkey\u001b[0m\u001b[1;33m)\u001b[0m\u001b[1;33m\u001b[0m\u001b[1;33m\u001b[0m\u001b[0m\n\u001b[0;32m   2133\u001b[0m             \u001b[1;32mif\u001b[0m \u001b[1;32mnot\u001b[0m \u001b[0mis_integer\u001b[0m\u001b[1;33m(\u001b[0m\u001b[0mkey\u001b[0m\u001b[1;33m)\u001b[0m\u001b[1;33m:\u001b[0m\u001b[1;33m\u001b[0m\u001b[1;33m\u001b[0m\u001b[0m\n\u001b[1;32m-> 2134\u001b[1;33m                 \u001b[1;32mraise\u001b[0m \u001b[0mTypeError\u001b[0m\u001b[1;33m(\u001b[0m\u001b[1;34m\"Cannot index by location index with a non-integer key\"\u001b[0m\u001b[1;33m)\u001b[0m\u001b[1;33m\u001b[0m\u001b[1;33m\u001b[0m\u001b[0m\n\u001b[0m\u001b[0;32m   2135\u001b[0m \u001b[1;33m\u001b[0m\u001b[0m\n\u001b[0;32m   2136\u001b[0m             \u001b[1;31m# validate the location\u001b[0m\u001b[1;33m\u001b[0m\u001b[1;33m\u001b[0m\u001b[1;33m\u001b[0m\u001b[0m\n",
      "\u001b[1;31mTypeError\u001b[0m: Cannot index by location index with a non-integer key"
     ]
    }
   ],
   "source": [
    "import pandas as pd\n",
    "import numpy as np\n",
    "import re\n",
    "import os\n",
    "\n",
    "def process_txt(file_name):\n",
    "    file = open(file_name, 'r', encoding=\"utf-8\")\n",
    "    lines = file.readlines()\n",
    "    file.close()\n",
    "    lines = [line[:-1] for line in lines]\n",
    "    df = pd.DataFrame(data=lines)\n",
    "    df.drop([0,1], inplace=True)\n",
    "    df.reset_index(inplace=True, drop=True)\n",
    "    df.drop(range(3,len(df),4), inplace=True)\n",
    "    df.reset_index(inplace=True, drop=True)\n",
    "    return df\n",
    "\n",
    "def reformat(filename, save_ext):\n",
    "    print(filename)\n",
    "    file_name = filename\n",
    "    extension = os.path.splitext(file_name)[1]\n",
    "    base_name = os.path.splitext(file_name)[0]\n",
    "\n",
    "    if extension == \".xlsx\":\n",
    "        xl = pd.ExcelFile(file_name)\n",
    "        df = xl.parse(\"Sheet1\", index_col=None, header=None)\n",
    "    if extension == \".txt\":\n",
    "        df = process_txt(file_name)\n",
    "\n",
    "    df.columns = ['raw']\n",
    "\n",
    "    #drop number lines\n",
    "    df.drop(range(0,len(df),3), inplace=True)\n",
    "    df.reset_index(inplace=True, drop=True)\n",
    "\n",
    "    df_timestamp = df.iloc[0::2, :]\n",
    "    df_timestamp.reset_index(inplace=True, drop=True)\n",
    "\n",
    "    df_text = df.iloc[1::2, :]\n",
    "    df_text.reset_index(inplace=True, drop=True)\n",
    "\n",
    "    df = pd.concat([df_timestamp,df_text],axis=1)\n",
    "    df.columns = ['timestamp','text']\n",
    "\n",
    "\n",
    "    participant_names = []\n",
    "    for index,row in df.iterrows():\n",
    "        p = re.compile(\"^(\\w+\\s\\w+):\", re.I)\n",
    "        name = p.search(row[\"text\"])\n",
    "        text = p.sub(\"\",row[\"text\"])\n",
    "        df.loc[index]['text'] = text\n",
    "        if name:\n",
    "            participant_names.append(name.group()[:-1])\n",
    "        else:\n",
    "            participant_names.append(\"unclear\")\n",
    "        p2 = re.compile(\"\\d\\d:\\d\\d:\\d\\d.\\d\\d(?=\\d)\")\n",
    "        inq_time = p2.search(row[\"timestamp\"])\n",
    "        df.loc[index]['timestamp'] = \"[\"+inq_time.group()+\"]\"\n",
    "    df[\"names\"]=participant_names\n",
    "    df = df[[\"timestamp\",\"names\",\"text\"]]\n",
    "    \n",
    "    save_file_name = base_name+\"_cleaned\"+save_ext\n",
    "    if save_ext==\".xlsx\":\n",
    "        df.to_excel(save_file_name, index=False, header=False)\n",
    "    if save_ext==\".txt\":\n",
    "        df.to_csv(save_file_name, sep='\\t', index=False, header=False)\n",
    "\n",
    "directory = \"./May2120\"\n",
    "for filename in os.listdir(directory):\n",
    "    if not filename.endswith(\"_cleaned.txt\"):\n",
    "        reformat(directory+\"./\"+filename, \".txt\")\n",
    "    "
   ]
  }
 ],
 "metadata": {
  "kernelspec": {
   "display_name": "Python 3",
   "language": "python",
   "name": "python3"
  },
  "language_info": {
   "codemirror_mode": {
    "name": "ipython",
    "version": 3
   },
   "file_extension": ".py",
   "mimetype": "text/x-python",
   "name": "python",
   "nbconvert_exporter": "python",
   "pygments_lexer": "ipython3",
   "version": "3.7.6"
  }
 },
 "nbformat": 4,
 "nbformat_minor": 2
}
