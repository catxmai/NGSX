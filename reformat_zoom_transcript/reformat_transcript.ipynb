{
 "cells": [
  {
   "cell_type": "code",
   "execution_count": 80,
   "metadata": {},
   "outputs": [],
   "source": [
    "import pandas as pd\n",
    "import re\n",
    "\n",
    "file_name = \"Zoom_sample_transcript.xlsx\"\n",
    "xl = pd.ExcelFile(file_name)\n",
    "df = xl.parse(\"Sheet1\", index_col=None, header=None)\n",
    "df.columns = ['raw']\n",
    "df.drop(range(0,len(df),3), inplace=True)\n",
    "df.reset_index(inplace=True, drop=True)\n",
    "\n",
    "df_timestamp = df.iloc[0::2, :]\n",
    "df_timestamp.reset_index(inplace=True, drop=True)\n",
    "\n",
    "df_text = df.iloc[1::2, :]\n",
    "df_text.reset_index(inplace=True, drop=True)\n",
    "\n",
    "df = pd.concat([df_timestamp,df_text],axis=1)\n",
    "df.columns = ['timestamp','text']\n",
    "\n",
    "\n",
    "names = []\n",
    "for index,row in df.iterrows():\n",
    "    p = re.compile(\"^(\\w+\\s\\w+):\", re.I)\n",
    "    name = p.search(row[\"text\"])\n",
    "    text = p.sub(\"\",row[\"text\"])\n",
    "    df.loc[index]['text'] = text\n",
    "    if name:\n",
    "        names.append(name.group()[:-1])\n",
    "    else:\n",
    "        names.append(\"unclear\")\n",
    "    p2 = re.compile(\"\\d\\d:\\d\\d:\\d\\d.\\d\\d(?=\\d)\")\n",
    "    inq_time = p2.search(row[\"timestamp\"])\n",
    "    df.loc[index]['timestamp'] = \"[\"+inq_time.group()+\"]\"\n",
    "df[\"names\"]=names\n",
    "df = df[[\"timestamp\",\"names\",\"text\"]]\n",
    "save_file_name = \"cleaned_\"+file_name\n",
    "df.to_excel(save_file_name, index=False, header=False)"
   ]
  }
 ],
 "metadata": {
  "kernelspec": {
   "display_name": "Python 3",
   "language": "python",
   "name": "python3"
  },
  "language_info": {
   "codemirror_mode": {
    "name": "ipython",
    "version": 3
   },
   "file_extension": ".py",
   "mimetype": "text/x-python",
   "name": "python",
   "nbconvert_exporter": "python",
   "pygments_lexer": "ipython3",
   "version": "3.7.4"
  }
 },
 "nbformat": 4,
 "nbformat_minor": 2
}
