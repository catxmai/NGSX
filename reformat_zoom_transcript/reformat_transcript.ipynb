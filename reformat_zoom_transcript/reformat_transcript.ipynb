{
 "cells": [
  {
   "cell_type": "code",
   "execution_count": 2,
   "metadata": {},
   "outputs": [
    {
     "name": "stdout",
     "output_type": "stream",
     "text": [
      "./May2120./Cindy--TJ-.transcript 2.txt\n",
      "./May2120./Climate Pathway Mtg-14May2020.txt\n",
      "./May2120./TJ--Cindy-.transcript 1.txt\n"
     ]
    }
   ],
   "source": [
    "import pandas as pd\n",
    "import numpy as np\n",
    "import re\n",
    "import os\n",
    "\n",
    "def process_txt(file_name):\n",
    "    file = open(file_name, 'r', encoding=\"utf-8\")\n",
    "    lines = file.readlines()\n",
    "    file.close()\n",
    "    lines = [line[:-1] for line in lines]\n",
    "    df = pd.DataFrame(data=lines)\n",
    "    df.drop([0,1], inplace=True)\n",
    "    df.reset_index(inplace=True, drop=True)\n",
    "    df.drop(range(3,len(df),4), inplace=True)\n",
    "    df.reset_index(inplace=True, drop=True)\n",
    "    return df\n",
    "\n",
    "def reformat(filename, save_ext):\n",
    "    print(filename)\n",
    "    file_name = filename\n",
    "    extension = os.path.splitext(file_name)[1]\n",
    "    base_name = os.path.splitext(file_name)[0]\n",
    "\n",
    "    if extension == \".xlsx\":\n",
    "        xl = pd.ExcelFile(file_name)\n",
    "        df = xl.parse(\"Sheet1\", index_col=None, header=None)\n",
    "    if extension == \".txt\":\n",
    "        df = process_txt(file_name)\n",
    "\n",
    "    df.columns = ['raw']\n",
    "\n",
    "    #drop number lines\n",
    "    df.drop(range(0,len(df),3), inplace=True)\n",
    "    df.reset_index(inplace=True, drop=True)\n",
    "\n",
    "    df_timestamp = df.iloc[0::2, :]\n",
    "    df_timestamp.reset_index(inplace=True, drop=True)\n",
    "\n",
    "    df_text = df.iloc[1::2, :]\n",
    "    df_text.reset_index(inplace=True, drop=True)\n",
    "\n",
    "    df = pd.concat([df_timestamp,df_text],axis=1)\n",
    "    df.columns = ['timestamp','text']\n",
    "\n",
    "\n",
    "    participant_names = []\n",
    "    for index,row in df.iterrows():\n",
    "        p = re.compile(\"^(\\w+\\s\\w+):\", re.I)\n",
    "        name = p.search(row[\"text\"])\n",
    "        text = p.sub(\"\",row[\"text\"])\n",
    "        df.loc[index]['text'] = text\n",
    "        if name:\n",
    "            participant_names.append(name.group()[:-1])\n",
    "        else:\n",
    "            participant_names.append(\"unclear\")\n",
    "        p2 = re.compile(\"\\d\\d:\\d\\d:\\d\\d.\\d\\d(?=\\d)\")\n",
    "        inq_time = p2.search(row[\"timestamp\"])\n",
    "        df.loc[index]['timestamp'] = \"[\"+inq_time.group()+\"]\"\n",
    "    df[\"names\"]=participant_names\n",
    "    df = df[[\"timestamp\",\"names\",\"text\"]]\n",
    "    \n",
    "    \n",
    "    save_file_name = base_name+\"_cleaned\"+save_ext\n",
    "    if save_ext==\".xlsx\":\n",
    "        df.to_excel(save_file_name, index=False, header=False)\n",
    "    if save_ext==\".txt\":\n",
    "        df.to_csv(save_file_name, sep=';', index=False, header=False)\n",
    "\n",
    "directory = \"./May2120\"\n",
    "for filename in os.listdir(directory):\n",
    "    if not filename.endswith(\"_cleaned.txt\"):\n",
    "        reformat(directory+\"./\"+filename, \".txt\")\n",
    "    "
   ]
  }
 ],
 "metadata": {
  "kernelspec": {
   "display_name": "Python 3",
   "language": "python",
   "name": "python3"
  },
  "language_info": {
   "codemirror_mode": {
    "name": "ipython",
    "version": 3
   },
   "file_extension": ".py",
   "mimetype": "text/x-python",
   "name": "python",
   "nbconvert_exporter": "python",
   "pygments_lexer": "ipython3",
   "version": "3.7.6"
  }
 },
 "nbformat": 4,
 "nbformat_minor": 2
}
