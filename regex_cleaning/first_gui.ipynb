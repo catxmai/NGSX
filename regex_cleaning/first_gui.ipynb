{
 "cells": [
  {
   "cell_type": "code",
   "execution_count": 4,
   "metadata": {},
   "outputs": [],
   "source": []
  },
  {
   "cell_type": "code",
   "execution_count": 1,
   "metadata": {},
   "outputs": [],
   "source": [
    "import tkinter as tk\n",
    "\n",
    "root= tk.Tk()\n",
    "\n",
    "frame = tk.Frame(root, width = 300, height = 300)\n",
    "canvas1.pack()\n",
    "\n",
    "def hello ():  \n",
    "    label1 = tk.Label(root, text= 'Hello World!', fg='green', font=('helvetica', 12, 'bold'))\n",
    "    canvas1.create_window(150, 200, window=label1)\n",
    "    \n",
    "button1 = tk.Button(text='Click Me',command=hello, bg='brown',fg='white')\n",
    "def save(): \n",
    "    files = [('All Files', '*.*'),  \n",
    "             ('Python Files', '*.py'), \n",
    "             ('Text Document', '*.txt')] \n",
    "    file = asksaveasfile(filetypes = files, defaultextension = files) \n",
    "btn = tk.Button(root, text = 'Save', command = lambda : save()) \n",
    "canvas1.create_window(150, 150, window=btn)\n",
    "\n",
    "root.mainloop()"
   ]
  }
 ],
 "metadata": {
  "kernelspec": {
   "display_name": "Python 3",
   "language": "python",
   "name": "python3"
  },
  "language_info": {
   "codemirror_mode": {
    "name": "ipython",
    "version": 3
   },
   "file_extension": ".py",
   "mimetype": "text/x-python",
   "name": "python",
   "nbconvert_exporter": "python",
   "pygments_lexer": "ipython3",
   "version": "3.7.4"
  }
 },
 "nbformat": 4,
 "nbformat_minor": 2
}
