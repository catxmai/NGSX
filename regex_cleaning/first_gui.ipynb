{
 "cells": [
  {
   "cell_type": "code",
   "execution_count": 3,
   "metadata": {},
   "outputs": [],
   "source": [
    "import pandas as pd\n",
    "import json\n",
    "from matplotlib import pyplot as plt\n",
    "import re\n",
    "import math\n",
    "import numpy as np\n",
    "from nltk.corpus import stopwords \n",
    "from collections import Counter\n",
    "pd.options.mode.chained_assignment = None  # default='warn'\n",
    "import tkinter as tk"
   ]
  },
  {
   "cell_type": "code",
   "execution_count": null,
   "metadata": {},
   "outputs": [],
   "source": [
    "class GUI(tk.Frame):\n",
    "    def __init__(self, parent = None):\n",
    "        tk.Frame.__init__(self, parent)                 \n",
    "        self.parent = parent\n",
    "#         self.init_window()\n",
    "\n",
    "        self.label = tk.Label(self, text=\"Hello, World!\")\n",
    "        self.label.pack(padx=20, pady=20)\n",
    "        \n",
    "#     def get_entry(self):\n",
    "#         name_entry = tk.Entry(parent)\n",
    "#         name = name_entry.get()\n",
    "        \n",
    "if __name__ == \"__main__\":\n",
    "    root = tk.Tk()\n",
    "\n",
    "    main = GUI(root)\n",
    "    main.pack(fill=\"both\", expand=True)\n",
    "\n",
    "    root.mainloop()\n",
    "\n",
    "\n",
    "\n"
   ]
  }
 ],
 "metadata": {
  "kernelspec": {
   "display_name": "Python 3",
   "language": "python",
   "name": "python3"
  },
  "language_info": {
   "codemirror_mode": {
    "name": "ipython",
    "version": 3
   },
   "file_extension": ".py",
   "mimetype": "text/x-python",
   "name": "python",
   "nbconvert_exporter": "python",
   "pygments_lexer": "ipython3",
   "version": "3.7.4"
  }
 },
 "nbformat": 4,
 "nbformat_minor": 2
}
