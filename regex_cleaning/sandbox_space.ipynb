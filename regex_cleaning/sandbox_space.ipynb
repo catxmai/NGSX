{
 "cells": [
  {
   "cell_type": "code",
   "execution_count": null,
   "metadata": {},
   "outputs": [],
   "source": []
  },
  {
   "cell_type": "code",
   "execution_count": 1,
   "metadata": {},
   "outputs": [],
   "source": [
    "import tkinter as tk\n",
    "import pandas as pd\n",
    "import re"
   ]
  },
  {
   "cell_type": "code",
   "execution_count": 2,
   "metadata": {},
   "outputs": [
    {
     "data": {
      "text/html": [
       "<div>\n",
       "<style scoped>\n",
       "    .dataframe tbody tr th:only-of-type {\n",
       "        vertical-align: middle;\n",
       "    }\n",
       "\n",
       "    .dataframe tbody tr th {\n",
       "        vertical-align: top;\n",
       "    }\n",
       "\n",
       "    .dataframe thead th {\n",
       "        text-align: right;\n",
       "    }\n",
       "</style>\n",
       "<table border=\"1\" class=\"dataframe\">\n",
       "  <thead>\n",
       "    <tr style=\"text-align: right;\">\n",
       "      <th></th>\n",
       "      <th>timestamp</th>\n",
       "      <th>name</th>\n",
       "      <th>text</th>\n",
       "    </tr>\n",
       "  </thead>\n",
       "  <tbody>\n",
       "    <tr>\n",
       "      <th>0</th>\n",
       "      <td>:53.02]</td>\n",
       "      <td>Renee</td>\n",
       "      <td>[appears] Yep.  [shuffling, puts in earbuds, ...</td>\n",
       "    </tr>\n",
       "    <tr>\n",
       "      <th>1</th>\n",
       "      <td>[00:05:21.28]</td>\n",
       "      <td>DeAnn</td>\n",
       "      <td>[voice icon appears] [sigh, 9-second pause, v...</td>\n",
       "    </tr>\n",
       "    <tr>\n",
       "      <th>2</th>\n",
       "      <td>[00:05:32.28]</td>\n",
       "      <td>DeAnn</td>\n",
       "      <td>Hello, can you hear me?  [6-second pause] Maybe?</td>\n",
       "    </tr>\n",
       "    <tr>\n",
       "      <th>3</th>\n",
       "      <td>[00:05:44.27]</td>\n",
       "      <td>Renee</td>\n",
       "      <td>[begins talking, but is still muted]</td>\n",
       "    </tr>\n",
       "    <tr>\n",
       "      <th>4</th>\n",
       "      <td>[00:05:45.21]</td>\n",
       "      <td>DeAnn</td>\n",
       "      <td>[sigh] can't hear you</td>\n",
       "    </tr>\n",
       "    <tr>\n",
       "      <th>...</th>\n",
       "      <td>...</td>\n",
       "      <td>...</td>\n",
       "      <td>...</td>\n",
       "    </tr>\n",
       "    <tr>\n",
       "      <th>889</th>\n",
       "      <td>[01:58:45.07]</td>\n",
       "      <td>Michael</td>\n",
       "      <td>Trey that's you you gotta send out another poll</td>\n",
       "    </tr>\n",
       "    <tr>\n",
       "      <th>890</th>\n",
       "      <td>[01:58:44.21]</td>\n",
       "      <td>Trey</td>\n",
       "      <td>[indistinct] All right great, great uh you'll...</td>\n",
       "    </tr>\n",
       "    <tr>\n",
       "      <th>891</th>\n",
       "      <td>[01:58:49.11]</td>\n",
       "      <td>Renee</td>\n",
       "      <td>Okay [all chuckling] Thank you, bye</td>\n",
       "    </tr>\n",
       "    <tr>\n",
       "      <th>892</th>\n",
       "      <td>[01:58:52.09]</td>\n",
       "      <td>Michael</td>\n",
       "      <td>Bye</td>\n",
       "    </tr>\n",
       "    <tr>\n",
       "      <th>893</th>\n",
       "      <td>[01:58:53.25]</td>\n",
       "      <td></td>\n",
       "      <td>[all sign off, video ends]</td>\n",
       "    </tr>\n",
       "  </tbody>\n",
       "</table>\n",
       "<p>894 rows × 3 columns</p>\n",
       "</div>"
      ],
      "text/plain": [
       "         timestamp     name                                               text\n",
       "0          :53.02]    Renee   [appears] Yep.  [shuffling, puts in earbuds, ...\n",
       "1    [00:05:21.28]    DeAnn   [voice icon appears] [sigh, 9-second pause, v...\n",
       "2    [00:05:32.28]    DeAnn   Hello, can you hear me?  [6-second pause] Maybe?\n",
       "3    [00:05:44.27]    Renee               [begins talking, but is still muted]\n",
       "4    [00:05:45.21]    DeAnn                              [sigh] can't hear you\n",
       "..             ...      ...                                                ...\n",
       "889  [01:58:45.07]  Michael    Trey that's you you gotta send out another poll\n",
       "890  [01:58:44.21]     Trey   [indistinct] All right great, great uh you'll...\n",
       "891  [01:58:49.11]    Renee                Okay [all chuckling] Thank you, bye\n",
       "892  [01:58:52.09]  Michael                                                Bye\n",
       "893  [01:58:53.25]                                  [all sign off, video ends]\n",
       "\n",
       "[894 rows x 3 columns]"
      ]
     },
     "execution_count": 2,
     "metadata": {},
     "output_type": "execute_result"
    }
   ],
   "source": [
    "df = pd.read_csv(\"2017_10_12 MS Sound Virtual Study Group 2.csv\",header=None)\n",
    "df.columns = [\"timestamp\", \"name\", \"text\"]\n",
    "df\n",
    "for index, col in df.iterrows():\n",
    "    if re.search(r\"\\[00:01\",str(col[\"timestamp\"])):\n",
    "        text = re.sub(r\"\\[00:01\",\"\",str(col[\"timestamp\"]))\n",
    "        df.loc[index][\"timestamp\"] = text\n",
    "        break\n",
    "df"
   ]
  },
  {
   "cell_type": "code",
   "execution_count": 6,
   "metadata": {},
   "outputs": [
    {
     "data": {
      "text/plain": [
       "' banana penguin[12pastasecondpause] [12secondpause]why would you[stopandgiggle] [haha][12-secondpause] abc'"
      ]
     },
     "execution_count": 6,
     "metadata": {},
     "output_type": "execute_result"
    }
   ],
   "source": [
    "\n",
    "\n",
    "# matches = re.match(r\"\\[(\\s*?.*?\\s*?)\\]\", text)\n",
    "# p = re.compile(\"\\[(\\s*?.*?\\s*?)\\]\")\n",
    "# result = p.findall(text)\n",
    "# cleaned_texts = []\n",
    "# for match in result:\n",
    "#     cleaned = re.sub(\"\\s\",\"\",match)\n",
    "#     cleaned = \"[\" + cleaned + \"]\"\n",
    "#     cleaned_texts.append(cleaned)\n",
    "# cleaned_texts\n",
    "\n",
    "#better way?\n",
    "#delete spaces in brackets\n",
    "orig_text = \"banana penguin [ 12 pasta second pause] [12 second pause] why would you [stop and giggle ] [ haha ] [12-second pause] abc\"\n",
    "cleaned_texts = []\n",
    "p = re.compile(\"\\[(\\s*?.*?\\s*?)\\]\")\n",
    "matches = p.findall(orig_text)\n",
    "for match in matches:\n",
    "    cleaned = re.sub(\"\\s\",\"\",match)\n",
    "    cleaned_texts.append(cleaned)\n",
    "\n",
    "text = orig_text\n",
    "for i in range(len(matches)):\n",
    "    cleaned = re.sub(matches[i],cleaned_texts[i],text)\n",
    "    text = cleaned\n",
    "    \n",
    "#delete starting and trailing spaces surr brackets\n",
    "# cleaned = \"[b] abc de f d [12-second pause] why abc dgh ki [huha][whaat] on earth [pot] [plant] this is [weird] try [d] [d]\"\n",
    "#find 2 spaces or leading and trailing space\n",
    "p = re.compile(\"\\s(\\[.*?\\])\\s|\\s(\\[.*?\\])$|^\\s?(\\[.*?\\])\\s?\")\n",
    "temp = p.sub(r\"\\1\",\" \"+cleaned)\n",
    "#find [] with form a[]b and add a space\n",
    "p = re.compile(\"(\\S)(\\[.*?\\])(\\S)\")\n",
    "temp_2 = p.sub(r\"\\1\\2\"+\" \"+r\"\\3\",temp)\n",
    "#find 2 spaces or leading and trailing space finally\n",
    "p = re.compile(\"\\s(\\[[a-zA-Z-0-9]*?\\])\\s|^\\s?(\\[[a-zA-Z-0-9]*?\\])\\s|\\s(\\[[a-zA-Z-0-9]*?\\])\\s?$\")\n",
    "temp_3 = p.sub(\" \"+r\"\\1\",temp_2)\n",
    "temp_3\n",
    "\n",
    "# start = 0\n",
    "# end = len(orig_text)+1\n",
    "# text = orig_text\n",
    "\n",
    "# for i in range(len(matches)): \n",
    "#     p = re.compile(\"\\[(\\s*?.*?\\s*?)\\]\")\n",
    "#     match = p.search(orig_text[start:end])\n",
    "# #     print(orig_text[start:end])\n",
    "#     start = match.span()[0]\n",
    "#     end = match.span()[1]\n",
    "#     match = re.sub(r\"\\s\",\"\",match.group())\n",
    "#     text = orig_text[:start]+result\n",
    "#     start = end\n",
    "#     end = len(orig_text)+1\n",
    "\n",
    "# #     print(orig_text[start:end])\n",
    "#     cleaned_texts.append(text)\n",
    "    \n",
    "    \n",
    "# cleaned_texts\n",
    "# a = re.match(\"[ 12 pasta second pause]\",orig_text)\n"
   ]
  },
  {
   "cell_type": "code",
   "execution_count": 18,
   "metadata": {},
   "outputs": [
    {
     "data": {
      "text/plain": [
       "'[why-pause][alot]banana penguin[12pastasecondpause] i mean-[12secondpause] why would you[stopandgiggle][haha][12-secondpause] abc[d]'"
      ]
     },
     "execution_count": 18,
     "metadata": {},
     "output_type": "execute_result"
    }
   ],
   "source": [
    "orig_text = \"[why- pause] [a lot] banana penguin [ 12 pasta second pause] i mean- [12 second pause] why would you [stop and giggle ] [ haha ] [12-second pause] abc [d]\"\n",
    "pat1 = re.compile(r'\\s+(?=[^\\[]*\\])')\n",
    "pat2 = re.compile(r'\\s+(?![a-z])', re.I)\n",
    "text = pat2.sub('', pat1.sub('', orig_text))\n",
    "pat3 = re.compile(r'^(\\[.*?\\])\\s')\n",
    "pat3.sub(r'\\1', text)"
   ]
  }
 ],
 "metadata": {
  "kernelspec": {
   "display_name": "Python 3",
   "language": "python",
   "name": "python3"
  },
  "language_info": {
   "codemirror_mode": {
    "name": "ipython",
    "version": 3
   },
   "file_extension": ".py",
   "mimetype": "text/x-python",
   "name": "python",
   "nbconvert_exporter": "python",
   "pygments_lexer": "ipython3",
   "version": "3.7.4"
  }
 },
 "nbformat": 4,
 "nbformat_minor": 2
}
