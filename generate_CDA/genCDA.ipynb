{
 "cells": [
  {
   "cell_type": "code",
   "execution_count": 1,
   "metadata": {},
   "outputs": [],
   "source": [
    "import pandas as pd\n",
    "import re\n",
    "import win32com.client as wincl\n",
    "import os\n",
    "import xlrd\n",
    "import sys\n",
    "\n",
    "def run_CDA():\n",
    "    excel_macro = wincl.DispatchEx(\"Excel.application\")\n",
    "    excel_path = os.path.expanduser(\"C:\\\\Users\\\\Cat Mai\\\\Documents\\\\Work\\\\NGSX\\\\Coding\\\\NGSX\\\\regex_cleaning\\\\CDA_Sample.xlsm\")\n",
    "    workbook = excel_macro.Workbooks.Open(Filename = excel_path)\n",
    "    excel_macro.Application.Run(\"GenerateData0\")\n",
    "    workbook.SaveAs(\"C:\\\\Users\\\\Cat Mai\\\\Documents\\\\Work\\\\NGSX\\\\Coding\\\\NGSX\\\\regex_cleaning\\\\CDA_Sampleresult_1.xlsm\")\n",
    "    excel_macro.Application.Quit()\n",
    "    del excel_macro"
   ]
  }
 ],
 "metadata": {
  "kernelspec": {
   "display_name": "Python 3",
   "language": "python",
   "name": "python3"
  },
  "language_info": {
   "codemirror_mode": {
    "name": "ipython",
    "version": 3
   },
   "file_extension": ".py",
   "mimetype": "text/x-python",
   "name": "python",
   "nbconvert_exporter": "python",
   "pygments_lexer": "ipython3",
   "version": "3.7.6"
  }
 },
 "nbformat": 4,
 "nbformat_minor": 4
}
