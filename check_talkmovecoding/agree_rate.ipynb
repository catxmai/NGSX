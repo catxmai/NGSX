{
 "cells": [
  {
   "cell_type": "code",
   "execution_count": 1,
   "metadata": {},
   "outputs": [],
   "source": [
    "import pandas as pd\n",
    "\n",
    "\n",
    "def import_file(file_pair, stop_line):\n",
    "    if len(file_pair)!=2:\n",
    "        raise(ValueError(\"Exact 2 files per pair\"))\n",
    "    xl1 = pd.ExcelFile(file_pair[0])\n",
    "    xl2 = pd.ExcelFile(file_pair[1])\n",
    "    df1 = xl1.parse(\"Sheet1\", index_col=None, header=None)\n",
    "    df2 = xl2.parse(\"Sheet1\", index_col=None, header=None)\n",
    "    return [df1[:stop_line],df2[:stop_line]]\n"
   ]
  },
  {
   "cell_type": "code",
   "execution_count": 2,
   "metadata": {},
   "outputs": [
    {
     "name": "stdout",
     "output_type": "stream",
     "text": [
      "List of coded lines we disagreed: [362, 370, 378, 385, 392, 406, 419, 430, 440, 441, 442, 448, 450, 452, 459, 509, 525, 599, 601]\n",
      "List of coded lines we agreed: [402, 408, 429, 506, 569]\n",
      "Agree score: 0.22727272727272727\n"
     ]
    }
   ],
   "source": [
    "dir=\"C:/Users/Cat Mai/Documents/Work/NGSX/TalkMoveCoding/\"\n",
    "pair=(dir+\"2ndSciCirc_Cut_Cat_600.xlsx\",\n",
    "     dir+\"2ndSciCirc_Cut SM first 634 lines .xlsx\")\n",
    "\n",
    "last_start = 330\n",
    "this_end = 600\n",
    "a = import_file(pair, this_end+1)\n",
    "df1=a[0].fillna(0)\n",
    "df2=a[1].fillna(0)\n",
    "\n",
    "#remove all question marks\n",
    "for i, row in df2[1:].iterrows():\n",
    "    for j in range(6,18):\n",
    "        temp=str(row[j])\n",
    "        if \"?\" in temp:\n",
    "            df1.iloc[i,j]=int(''.join(x for x in temp if x.isdigit()))\n",
    "            \n",
    "disagree_list, agree_coded_list=[],[]\n",
    "agree_score, agree_coded_score=0,0\n",
    "coded_count=0\n",
    "for i in range(last_start, this_end+1):\n",
    "    t=df1.iloc[i][6:15]==df2.iloc[i][6:15]\n",
    "    if df1.iloc[i][6:15].sum()>0 or df2.iloc[i][6:15].sum()>0:\n",
    "        coded_count+=1\n",
    "    if (t.all()):\n",
    "        agree_score+=1\n",
    "        if df1.iloc[i][6:17].sum()>0:\n",
    "            agree_coded_score+=1\n",
    "            agree_coded_list.append(i+1)\n",
    "    if not t.all():\n",
    "        disagree_list.append(i+1)\n",
    "\n",
    "print(f\"List of coded lines we disagreed: {disagree_list}\")\n",
    "print(f\"List of coded lines we agreed: {agree_coded_list}\")\n",
    "print(f\"Agree score: {agree_coded_score/coded_count}\")\n",
    "\n",
    "#check for less sensitive mechanism\n",
    "#line numbering clearer\n"
   ]
  }
 ],
 "metadata": {
  "kernelspec": {
   "display_name": "Python 3",
   "language": "python",
   "name": "python3"
  },
  "language_info": {
   "codemirror_mode": {
    "name": "ipython",
    "version": 3
   },
   "file_extension": ".py",
   "mimetype": "text/x-python",
   "name": "python",
   "nbconvert_exporter": "python",
   "pygments_lexer": "ipython3",
   "version": "3.7.6"
  }
 },
 "nbformat": 4,
 "nbformat_minor": 4
}
