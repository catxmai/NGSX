{
 "cells": [
  {
   "cell_type": "code",
   "execution_count": 53,
   "metadata": {},
   "outputs": [],
   "source": [
    "import pandas as pd\n",
    "\n",
    "\n",
    "def import_file(file_pair, stop_line=151):\n",
    "    if len(file_pair)!=2:\n",
    "        raise(ValueError(\"Exact 2 files per pair\"))\n",
    "    xl1 = pd.ExcelFile(file_pair[0])\n",
    "    xl2 = pd.ExcelFile(file_pair[1])\n",
    "    df1 = xl1.parse(\"Sheet1\", index_col=None, header=None)\n",
    "    df2 = xl2.parse(\"Sheet1\", index_col=None, header=None)\n",
    "    return [df1[:stop_line],df2[:stop_line]]\n"
   ]
  },
  {
   "cell_type": "code",
   "execution_count": 63,
   "metadata": {},
   "outputs": [
    {
     "name": "stdout",
     "output_type": "stream",
     "text": [
      "List of turns we disagreed: [29, 31, 61, 67, 90, 91, 94, 108, 119, 120, 146]\n",
      "List of coded turns we agreed: [16, 18, 22, 52, 55, 63, 111, 115, 116, 137, 144, 150]\n",
      "Agree score: 0.9266666666666666\n"
     ]
    },
    {
     "data": {
      "text/plain": [
       "False"
      ]
     },
     "execution_count": 63,
     "metadata": {},
     "output_type": "execute_result"
    }
   ],
   "source": [
    "dir=\"C:/Users/Cat Mai/Documents/Work/NGSX/TalkMoveCoding/\"\n",
    "pair=(dir+\"2ndSciCirc_Cut_Cat.xlsx\",\n",
    "     dir+\"2ndSciCirc_Cut_SM.xlsx\")\n",
    "\n",
    "a = import_file(pair)\n",
    "df1=a[0].fillna(0)\n",
    "df2=a[1].fillna(0)\n",
    "\n",
    "disagree_list, agree_coded_list=[],[]\n",
    "agree_score, agree_coded_score=0,0\n",
    "coded_count=0\n",
    "for i in range(1,151):\n",
    "    t=df1.iloc[i][6:17]==df2.iloc[i][6:17]\n",
    "#     if df1.iloc[i][6:17].sum()>0 or df2.iloc[i][6:17].sum()>0:\n",
    "#         coded_count+=1\n",
    "    if (t.all()):\n",
    "        agree_score+=1\n",
    "        if df1.iloc[i][6:17].sum()>0:\n",
    "            agree_coded_score+=1\n",
    "            agree_coded_list.append(i)\n",
    "    if not t.all():\n",
    "        disagree_list.append(i)\n",
    "\n",
    "print(f\"List of turns we disagreed: {disagree_list}\")\n",
    "print(f\"List of coded turns we agreed: {agree_coded_list}\")\n",
    "print(f\"Agree score: {agree_score/150}\")\n",
    "\n"
   ]
  }
 ],
 "metadata": {
  "kernelspec": {
   "display_name": "Python 3",
   "language": "python",
   "name": "python3"
  },
  "language_info": {
   "codemirror_mode": {
    "name": "ipython",
    "version": 3
   },
   "file_extension": ".py",
   "mimetype": "text/x-python",
   "name": "python",
   "nbconvert_exporter": "python",
   "pygments_lexer": "ipython3",
   "version": "3.7.6"
  }
 },
 "nbformat": 4,
 "nbformat_minor": 4
}
